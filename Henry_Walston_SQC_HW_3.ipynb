{
  "nbformat": 4,
  "nbformat_minor": 0,
  "metadata": {
    "colab": {
      "provenance": [],
      "mount_file_id": "1pe5cNgn63pN7gsLD4dY4VUXb0ra7hC6S",
      "authorship_tag": "ABX9TyOOcfG7h3YpPCK7/hdr4TEZ",
      "include_colab_link": true
    },
    "kernelspec": {
      "name": "python3",
      "display_name": "Python 3"
    },
    "language_info": {
      "name": "python"
    }
  },
  "cells": [
    {
      "cell_type": "markdown",
      "metadata": {
        "id": "view-in-github",
        "colab_type": "text"
      },
      "source": [
        "<a href=\"https://colab.research.google.com/github/CrabRave4204/KSU-IE/blob/main/Henry_Walston_SQC_HW_3.ipynb\" target=\"_parent\"><img src=\"https://colab.research.google.com/assets/colab-badge.svg\" alt=\"Open In Colab\"/></a>"
      ]
    },
    {
      "cell_type": "code",
      "execution_count": 82,
      "metadata": {
        "colab": {
          "base_uri": "https://localhost:8080/"
        },
        "id": "AKi31F4pE_Vs",
        "outputId": "ed9fe2dd-a89a-4496-9a48-c61669dc1121"
      },
      "outputs": [
        {
          "output_type": "stream",
          "name": "stdout",
          "text": [
            "Drive already mounted at /content/drive; to attempt to forcibly remount, call drive.mount(\"/content/drive\", force_remount=True).\n"
          ]
        }
      ],
      "source": [
        "\n",
        "from google.colab import drive\n",
        "drive.mount('/content/drive')\n",
        "\n",
        "\n",
        "import pandas as pd\n",
        "import numpy as np\n",
        "import scipy.stats as stats\n",
        "import matplotlib.pyplot as plt"
      ]
    },
    {
      "cell_type": "code",
      "source": [
        "from google.colab import drive\n",
        "drive.mount('/content/drive')"
      ],
      "metadata": {
        "colab": {
          "base_uri": "https://localhost:8080/"
        },
        "id": "GgBze7MMQwx1",
        "outputId": "bc82cb6f-52ba-4f02-91ba-dfb07dcb0d05"
      },
      "execution_count": 83,
      "outputs": [
        {
          "output_type": "stream",
          "name": "stdout",
          "text": [
            "Drive already mounted at /content/drive; to attempt to forcibly remount, call drive.mount(\"/content/drive\", force_remount=True).\n"
          ]
        }
      ]
    },
    {
      "cell_type": "code",
      "source": [
        "# Problem 1: Excercises 4.35 & 4.36\n",
        "\n",
        "C2F6 = {\n",
        "'Flow': [125, 160, 200],\n",
        "'1': [2.7, 4.6, 4.6],\n",
        "'2': [2.6, 4.9, 2.9],\n",
        "'3': [4.6, 5.0, 3.4],\n",
        "'4': [3.2, 4.2, 3.5],\n",
        "'5': [3.0, 3.6, 4.1],\n",
        "'6': [3.8, 4.2, 5.1]\n",
        "}\n"
      ],
      "metadata": {
        "id": "_EKwK4s8FiQl"
      },
      "execution_count": 84,
      "outputs": []
    },
    {
      "cell_type": "code",
      "source": [
        "df = pd.DataFrame(C2F6)\n",
        "print(df)\n"
      ],
      "metadata": {
        "colab": {
          "base_uri": "https://localhost:8080/"
        },
        "id": "wixdTZvIHg2L",
        "outputId": "c9236693-b6f1-422d-f149-dd5aadbfd029"
      },
      "execution_count": 85,
      "outputs": [
        {
          "output_type": "stream",
          "name": "stdout",
          "text": [
            "   Flow    1    2    3    4    5    6\n",
            "0   125  2.7  2.6  4.6  3.2  3.0  3.8\n",
            "1   160  4.6  4.9  5.0  4.2  3.6  4.2\n",
            "2   200  4.6  2.9  3.4  3.5  4.1  5.1\n"
          ]
        }
      ]
    },
    {
      "cell_type": "code",
      "source": [
        "df_melted = pd.melt(df, id_vars=['Flow'], var_name='Sensor', value_name='Value')\n",
        "\n",
        "\n",
        "fvalue, pvalue = stats.f_oneway(\n",
        "    df_melted['Value'][df_melted['Flow'] == 125],\n",
        "    df_melted['Value'][df_melted['Flow'] == 160],\n",
        "    df_melted['Value'][df_melted['Flow'] == 200]\n",
        ")\n",
        "\n",
        "print(f\"F-value: {fvalue}\")\n",
        "print(f\"P-value: {pvalue}\")\n",
        "\n"
      ],
      "metadata": {
        "colab": {
          "base_uri": "https://localhost:8080/"
        },
        "id": "3M9npp2QEQnZ",
        "outputId": "a27efa4c-eacb-4798-c8e5-8c53d96608ba"
      },
      "execution_count": 86,
      "outputs": [
        {
          "output_type": "stream",
          "name": "stdout",
          "text": [
            "F-value: 3.5856269113149857\n",
            "P-value: 0.05336512592803552\n"
          ]
        }
      ]
    },
    {
      "cell_type": "code",
      "source": [
        "\n",
        "plt.boxplot([df_melted['Value'][df_melted['Flow'] == 125],\n",
        "             df_melted['Value'][df_melted['Flow'] == 160],\n",
        "             df_melted['Value'][df_melted['Flow'] == 200]],\n",
        "            labels=['125', '160', '200'])\n",
        "plt.xlabel('Flow Rate')\n",
        "plt.ylabel('Observations')\n",
        "plt.title('Box Plot of Observations by Flow Rate')\n",
        "plt.show()\n"
      ],
      "metadata": {
        "colab": {
          "base_uri": "https://localhost:8080/",
          "height": 472
        },
        "id": "3pObn7gOF6_2",
        "outputId": "fbcf29b1-f1b5-4c1b-f325-e91cfcc20578"
      },
      "execution_count": 87,
      "outputs": [
        {
          "output_type": "display_data",
          "data": {
            "text/plain": [
              "<Figure size 640x480 with 1 Axes>"
            ],
            "image/png": "[encoded data removed]"
          },
          "metadata": {}
        }
      ]
    },
    {
      "cell_type": "code",
      "source": [
        "\n",
        "import statsmodels.formula.api as sm\n",
        "\n",
        "model = sm.ols('Value ~ Flow', data=df_melted).fit()\n",
        "\n",
        "residuals = model.resid\n",
        "\n",
        "plt.scatter(df_melted['Flow'], residuals)\n",
        "plt.xlabel('Flow Rate')\n",
        "plt.ylabel('Residuals')\n",
        "plt.title('Residuals vs. Flow Rate')\n",
        "plt.show()\n"
      ],
      "metadata": {
        "colab": {
          "base_uri": "https://localhost:8080/",
          "height": 472
        },
        "id": "apgTWl1_GtM0",
        "outputId": "768e854a-6052-4e70-bc68-8de7dfcc429b"
      },
      "execution_count": 88,
      "outputs": [
        {
          "output_type": "display_data",
          "data": {
            "text/plain": [
              "<Figure size 640x480 with 1 Axes>"
            ],
            "image/png": "[encoded data removed]"
          },
          "metadata": {}
        }
      ]
    },
    {
      "cell_type": "code",
      "source": [
        "\n",
        "\n",
        "from scipy.stats import shapiro\n",
        "\n",
        "for flow_rate in df['Flow'].unique():\n",
        "  data = df_melted['Value'][df_melted['Flow'] == flow_rate]\n",
        "  statistic, p_value = shapiro(data)\n",
        "  print(f\"Flow Rate: {flow_rate}\")\n",
        "  print(f\"Shapiro Test Statistic: {statistic}\")\n",
        "  print(f\"P-value: {p_value}\")\n",
        "  print(\"---------------------------------------------\")\n"
      ],
      "metadata": {
        "colab": {
          "base_uri": "https://localhost:8080/"
        },
        "id": "zMYikEV1HTuo",
        "outputId": "d871c214-fbbf-488f-a535-cc6f30a9a111"
      },
      "execution_count": 89,
      "outputs": [
        {
          "output_type": "stream",
          "name": "stdout",
          "text": [
            "Flow Rate: 125\n",
            "Shapiro Test Statistic: 0.9000895264562164\n",
            "P-value: 0.37445940662122623\n",
            "---------------------------------------------\n",
            "Flow Rate: 160\n",
            "Shapiro Test Statistic: 0.9364181676413699\n",
            "P-value: 0.6304925627126303\n",
            "---------------------------------------------\n",
            "Flow Rate: 200\n",
            "Shapiro Test Statistic: 0.965114901952876\n",
            "P-value: 0.8581580660195343\n",
            "---------------------------------------------\n"
          ]
        }
      ]
    },
    {
      "cell_type": "code",
      "source": [
        "\n",
        "for flow_rate in df['Flow'].unique():\n",
        "  mean_value = df_melted['Value'][df_melted['Flow'] == flow_rate].mean()\n",
        "  print(f\"{flow_rate}: {round(mean_value,3)}\")\n"
      ],
      "metadata": {
        "colab": {
          "base_uri": "https://localhost:8080/"
        },
        "id": "h2KdORt9IGSY",
        "outputId": "be30a2e7-e869-4cf1-a575-4540a35f9bec"
      },
      "execution_count": 90,
      "outputs": [
        {
          "output_type": "stream",
          "name": "stdout",
          "text": [
            "125: 3.317\n",
            "160: 4.417\n",
            "200: 3.933\n"
          ]
        }
      ]
    },
    {
      "cell_type": "code",
      "source": [
        "\n",
        "from scipy.stats import ttest_ind\n",
        "from scipy.stats import t\n",
        "\n",
        "flow_rates = df['Flow'].unique()\n",
        "for i in range(len(flow_rates)):\n",
        "  for j in range(i + 1, len(flow_rates)):\n",
        "    flow_rate1 = flow_rates[i]\n",
        "    flow_rate2 = flow_rates[j]\n",
        "\n",
        "    data1 = df_melted['Value'][df_melted['Flow'] == flow_rate1]\n",
        "    data2 = df_melted['Value'][df_melted['Flow'] == flow_rate2]\n",
        "\n",
        "    t_statistic, p_value = ttest_ind(data1, data2, equal_var=False)\n",
        "\n",
        "    df_welch = ((data1.var() / 6 + data2.var() / 6) ** 2) / \\\n",
        "              ((data1.var() / 6) ** 2 / 5 + (data2.var() / 6) ** 2 / 5)\n",
        "\n",
        "    alpha = 0.05\n",
        "    critical_t = t.ppf(1 - alpha / 2, df_welch)\n",
        "\n",
        "    print(f\"{flow_rate1} vs {flow_rate2}:\")\n",
        "    print(f\"T-stat: {t_statistic}\")\n",
        "    print(f\"P-value: {p_value}\")\n",
        "    print(f\"Critical t-value: {critical_t}\")\n",
        "    print(\"---------------------------------------------\")\n"
      ],
      "metadata": {
        "colab": {
          "base_uri": "https://localhost:8080/"
        },
        "id": "e9JXmxjVIiRb",
        "outputId": "a74329c3-bab9-4964-e7e2-ee02afd97027"
      },
      "execution_count": 91,
      "outputs": [
        {
          "output_type": "stream",
          "name": "stdout",
          "text": [
            "125 vs 160:\n",
            "T-stat: -2.9202396357403257\n",
            "P-value: 0.01728654013298562\n",
            "Critical t-value: 2.267257131575057\n",
            "---------------------------------------------\n",
            "125 vs 200:\n",
            "T-stat: -1.349789758764916\n",
            "P-value: 0.2070179434052791\n",
            "Critical t-value: 2.229952108043448\n",
            "---------------------------------------------\n",
            "160 vs 200:\n",
            "T-stat: 1.2157432436359241\n",
            "P-value: 0.25682981012435646\n",
            "Critical t-value: 2.283339614998387\n",
            "---------------------------------------------\n"
          ]
        }
      ]
    },
    {
      "cell_type": "code",
      "source": [
        "# Problem 2: Excercise 4.53\n",
        "\n",
        "from scipy.stats import t\n",
        "\n",
        "def calculate_p(t_value, df):\n",
        "  p_value = t.sf(abs(t_value), df)\n",
        "  return p_value\n",
        "\n",
        "for i in [2.3, 3.41, 1.98, 1.55]:\n",
        "  t_value = i\n",
        "  df = 14\n",
        "  p_value = calculate_p(t_value, df)\n",
        "  print(f\"If t0 = {round(i,2)} then P = {round(p_value,5)}\")\n",
        "\n"
      ],
      "metadata": {
        "colab": {
          "base_uri": "https://localhost:8080/"
        },
        "id": "wv4qAUXkKTwf",
        "outputId": "61ee41cd-c813-4e0d-e8f4-efd1facc6ee6"
      },
      "execution_count": 54,
      "outputs": [
        {
          "output_type": "stream",
          "name": "stdout",
          "text": [
            "If t0 = 2.3 then P = 0.01868\n",
            "If t0 = 3.41 then P = 0.00211\n",
            "If t0 = 1.98 then P = 0.03385\n",
            "If t0 = 1.55 then P = 0.07172\n"
          ]
        }
      ]
    },
    {
      "cell_type": "code",
      "source": [
        "#Problem 3: Excersice 4.47\n",
        "\n",
        "import pandas as pd\n",
        "\n",
        "HP = pd.read_csv('/content/drive/MyDrive/Table 4E.10.csv')\n",
        "\n",
        "print(HP)\n"
      ],
      "metadata": {
        "colab": {
          "base_uri": "https://localhost:8080/"
        },
        "id": "LBPfN0pVPZk5",
        "outputId": "d9b9ea70-c1b4-4718-de19-055377e3adbc"
      },
      "execution_count": 58,
      "outputs": [
        {
          "output_type": "stream",
          "name": "stdout",
          "text": [
            "    BrakeHP   rpm  Octane  Compression\n",
            "0       225  2000      90          100\n",
            "1       212  1800      94           95\n",
            "2       229  2400      88          110\n",
            "3       222  1900      91           96\n",
            "4       219  1600      86          100\n",
            "5       278  2500      96          110\n",
            "6       246  3000      94           98\n",
            "7       237  3200      90          100\n",
            "8       233  2800      88          105\n",
            "9       224  3400      86           97\n",
            "10      223  1800      90          100\n",
            "11      230  2500      89          104\n"
          ]
        }
      ]
    },
    {
      "cell_type": "code",
      "source": [
        "import statsmodels.formula.api as sm\n",
        "\n",
        "model = sm.ols('BrakeHP ~  rpm +Octane +Compression', data=HP).fit()\n",
        "\n",
        "print(model.summary())"
      ],
      "metadata": {
        "colab": {
          "base_uri": "https://localhost:8080/"
        },
        "id": "sAhOt53URfXM",
        "outputId": "55a38521-e768-42a6-d338-50e97ddb889e"
      },
      "execution_count": 80,
      "outputs": [
        {
          "output_type": "stream",
          "name": "stdout",
          "text": [
            "                            OLS Regression Results                            \n",
            "==============================================================================\n",
            "Dep. Variable:                BrakeHP   R-squared:                       0.807\n",
            "Model:                            OLS   Adj. R-squared:                  0.734\n",
            "Method:                 Least Squares   F-statistic:                     11.12\n",
            "Date:                Fri, 20 Sep 2024   Prob (F-statistic):            0.00317\n",
            "Time:                        02:50:30   Log-Likelihood:                -40.708\n",
            "No. Observations:                  12   AIC:                             89.42\n",
            "Df Residuals:                       8   BIC:                             91.36\n",
            "Df Model:                           3                                         \n",
            "Covariance Type:            nonrobust                                         \n",
            "===============================================================================\n",
            "                  coef    std err          t      P>|t|      [0.025      0.975]\n",
            "-------------------------------------------------------------------------------\n",
            "Intercept    -266.0312     92.674     -2.871      0.021    -479.737     -52.325\n",
            "rpm             0.0107      0.004      2.390      0.044       0.000       0.021\n",
            "Octane          3.1348      0.844      3.712      0.006       1.188       5.082\n",
            "Compression     1.8674      0.535      3.494      0.008       0.635       3.100\n",
            "==============================================================================\n",
            "Omnibus:                        0.392   Durbin-Watson:                   1.043\n",
            "Prob(Omnibus):                  0.822   Jarque-Bera (JB):                0.230\n",
            "Skew:                          -0.282   Prob(JB):                        0.891\n",
            "Kurtosis:                       2.625   Cond. No.                     9.03e+04\n",
            "==============================================================================\n",
            "\n",
            "Notes:\n",
            "[1] Standard Errors assume that the covariance matrix of the errors is correctly specified.\n",
            "[2] The condition number is large, 9.03e+04. This might indicate that there are\n",
            "strong multicollinearity or other numerical problems.\n"
          ]
        },
        {
          "output_type": "stream",
          "name": "stderr",
          "text": [
            "/usr/local/lib/python3.10/dist-packages/scipy/stats/_axis_nan_policy.py:531: UserWarning: kurtosistest only valid for n>=20 ... continuing anyway, n=12\n",
            "  res = hypotest_fun_out(*samples, **kwds)\n"
          ]
        }
      ]
    },
    {
      "cell_type": "code",
      "source": [
        "for predictor in ['rpm', 'Octane', 'Compression']:\n",
        "  model_single = sm.ols(f'BrakeHP ~ {predictor}', data=HP).fit()\n",
        "  r_squared = model_single.rsquared\n",
        "  print(f\"R-squared for {predictor}: {r_squared}\")\n"
      ],
      "metadata": {
        "colab": {
          "base_uri": "https://localhost:8080/"
        },
        "id": "JxW83KR2VC_d",
        "outputId": "eb434de2-6595-41f0-bdab-41ead9fad287"
      },
      "execution_count": 74,
      "outputs": [
        {
          "output_type": "stream",
          "name": "stdout",
          "text": [
            "R-squared for rpm: 0.15862773625348459\n",
            "R-squared for Octane: 0.3149006218176681\n",
            "R-squared for Compression: 0.36691773611919465\n"
          ]
        }
      ]
    }
  ]
}